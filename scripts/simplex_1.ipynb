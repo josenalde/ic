{
 "cells": [
  {
   "cell_type": "markdown",
   "id": "88bb1c3f",
   "metadata": {},
   "source": [
    "### Problema 1: PROGRAMAÇÃO LINEAR (SIMPLEX)\n",
    "Cada acre plantado com milho rende lucro de R$ 3.000,00, requer dois trabalhadores, e requer quatro toneladas de fertilizante. Existem atualmente 1000 trabalhadores e 1200 toneladas de fertilizante disponíveis (recursos).\n",
    "\n",
    "Quantos acres devem ser plantados com trigo ou milho para maximizar o lucro?\n",
    "\n",
    "Variáveis de decisão: quantidades (areas) a serem plantadas de trigo ou milho\n",
    "Restrições: área disponível, trabalhadores e fertilizantes\n",
    "Função objetivo: maximizar lucro\n",
    "\n",
    "F.O: 2000*area(trigo) + 3000*area(milho)\n",
    "\n",
    "area(trigo) + area(milho) <= 450 <br>\n",
    "3*area(trigo) + 2*area(milho) <= 1000 (trabalhadores) <br>\n",
    "2*area(trigo) + 4*area(milho) <= 1200 (fertilizantes) <br>\n",
    "area(trigo) >= 0 <br>\n",
    "area(milho) >= 0 <br>"
   ]
  },
  {
   "cell_type": "markdown",
   "id": "4fa9ec20",
   "metadata": {},
   "source": [
    "Pacote scipy.optimize.linprog: <a href='https://docs.scipy.org/doc/scipy/reference/generated/scipy.optimize.linprog.html'>Doc</a>"
   ]
  },
  {
   "cell_type": "markdown",
   "id": "5f63259e",
   "metadata": {},
   "source": [
    "O pacote trabalha por padrão com minimização. Para maximizar, basta assumir que min(f(.))=max(f(-.))"
   ]
  },
  {
   "cell_type": "code",
   "execution_count": 4,
   "id": "c06ced82",
   "metadata": {},
   "outputs": [],
   "source": [
    "fo = [-2000, -3000]\n",
    "\n",
    "A = [[1,1],\n",
    "     [3,2],\n",
    "     [2,4]]\n",
    "\n",
    "b = [450, \n",
    "     1000, \n",
    "     1200]"
   ]
  },
  {
   "cell_type": "code",
   "execution_count": 5,
   "id": "f12d0097",
   "metadata": {},
   "outputs": [],
   "source": [
    "from scipy.optimize import linprog\n",
    "\n",
    "opt = linprog(c=fo, A_ub=A, b_ub=b, method='revised simplex')"
   ]
  },
  {
   "cell_type": "code",
   "execution_count": 8,
   "id": "1d3b2d4e",
   "metadata": {},
   "outputs": [
    {
     "data": {
      "text/plain": [
       "     con: array([], dtype=float64)\n",
       "     fun: -1000000.0\n",
       " message: 'Optimization terminated successfully.'\n",
       "     nit: 2\n",
       "   slack: array([50.,  0.,  0.])\n",
       "  status: 0\n",
       " success: True\n",
       "       x: array([200., 200.])"
      ]
     },
     "execution_count": 8,
     "metadata": {},
     "output_type": "execute_result"
    }
   ],
   "source": [
    "opt\n"
   ]
  },
  {
   "cell_type": "markdown",
   "id": "fdda0aeb",
   "metadata": {},
   "source": [
    "Interpretação: o atributo slack retorna a sobra de recursos, ou seja, dos 450 acres foram usados 400 sobrando 50, mas todos os trabalhores e fertilizante foi utilizado neste cenário. Sendo a resposta (x) 200 acres de trigo e 200 acres de milho."
   ]
  },
  {
   "cell_type": "code",
   "execution_count": 9,
   "id": "d7d68b73",
   "metadata": {},
   "outputs": [
    {
     "data": {
      "text/plain": [
       "array([50.,  0.,  0.])"
      ]
     },
     "execution_count": 9,
     "metadata": {},
     "output_type": "execute_result"
    }
   ],
   "source": [
    "opt.slack"
   ]
  },
  {
   "cell_type": "code",
   "execution_count": 10,
   "id": "79df8f06",
   "metadata": {},
   "outputs": [
    {
     "data": {
      "text/plain": [
       "array([200., 200.])"
      ]
     },
     "execution_count": 10,
     "metadata": {},
     "output_type": "execute_result"
    }
   ],
   "source": [
    "opt.x"
   ]
  }
 ],
 "metadata": {
  "kernelspec": {
   "display_name": "Python 3 (ipykernel)",
   "language": "python",
   "name": "python3"
  },
  "language_info": {
   "codemirror_mode": {
    "name": "ipython",
    "version": 3
   },
   "file_extension": ".py",
   "mimetype": "text/x-python",
   "name": "python",
   "nbconvert_exporter": "python",
   "pygments_lexer": "ipython3",
   "version": "3.9.12"
  }
 },
 "nbformat": 4,
 "nbformat_minor": 5
}
