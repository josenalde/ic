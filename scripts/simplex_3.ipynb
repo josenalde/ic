{
 "cells": [
  {
   "attachments": {},
   "cell_type": "markdown",
   "id": "b51fc58f",
   "metadata": {},
   "source": [
    "### Exercício de fixação\n",
    "\n",
    "Com base nos notebooks de exemplo simplex_1 e simplex_2, modelar e resolver o problema abaixo:\n",
    "\n",
    "Deseja-se adubar uma área de 20 hectares, dispondo-se de dois tipos de adubo com as seguintes especificações e condições:\n",
    "\n",
    "<img src='prob_3.png'></img>\n",
    "\n",
    "Se basear no arquivo ic04.pdf, slides 29 e 30, fazendo os ajustes necessários para o modelo ser compatível com o esperado pelo linprog"
   ]
  },
  {
   "cell_type": "code",
   "execution_count": 1,
   "id": "4b4261e2",
   "metadata": {},
   "outputs": [],
   "source": [
    "fo = [, ]\n",
    "\n",
    "A = [[ , ],\n",
    "     [ , ],\n",
    "     [ , ]]\n",
    "\n",
    "b = [ , \n",
    "      ,\n",
    "    ]\n",
    "\n",
    "x_b = ( , )\n",
    "y_b = ( , )"
   ]
  },
  {
   "cell_type": "code",
   "execution_count": 2,
   "id": "a715b855",
   "metadata": {},
   "outputs": [],
   "source": [
    "from scipy.optimize import linprog\n",
    "\n",
    "opt = linprog(c=fo, A_ub=A, b_ub=b, bounds=[x_b,y_b], method='highs-ds')"
   ]
  },
  {
   "cell_type": "code",
   "execution_count": 9,
   "id": "0de96ec0",
   "metadata": {},
   "outputs": [
    {
     "name": "stdout",
     "output_type": "stream",
     "text": [
      "Custo mínimo por 20 ha: R$ 897.5  usando %.2f 62.499999999999964  t de adubo orgânico e 4.500000000000001  t de adubo químico\n"
     ]
    }
   ],
   "source": [
    "print('Custo mínimo por 20 ha: R$', opt.fun, ' usando %.2f', opt.x[0], ' t de adubo orgânico e', opt.x[1], ' t de adubo químico')\n"
   ]
  }
 ],
 "metadata": {
  "kernelspec": {
   "display_name": "Python 3 (ipykernel)",
   "language": "python",
   "name": "python3"
  },
  "language_info": {
   "codemirror_mode": {
    "name": "ipython",
    "version": 3
   },
   "file_extension": ".py",
   "mimetype": "text/x-python",
   "name": "python",
   "nbconvert_exporter": "python",
   "pygments_lexer": "ipython3",
   "version": "3.9.12"
  }
 },
 "nbformat": 4,
 "nbformat_minor": 5
}
