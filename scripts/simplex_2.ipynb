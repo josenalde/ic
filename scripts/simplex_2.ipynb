{
 "cells": [
  {
   "cell_type": "markdown",
   "id": "c0f82cd1",
   "metadata": {},
   "source": [
    "### Problema 2: PROGRAMAÇÃO LINEAR (SIMPLEX)\n",
    "\n",
    "Seja um problema de minimização:\n",
    "\n",
    "$\n",
    "\\begin{eqnarray*}\n",
    "\\begin{aligned}\n",
    "min \\quad -x + 4y \\\\\n",
    "s.a \\quad -3x + y \\leq 6\\\\\n",
    "\\quad \\quad -x - 2y \\geq -4 \\\\\n",
    "\\quad \\quad y \\geq -3 \\\\\n",
    "\\end{aligned}\n",
    "\\end{eqnarray*}\n",
    "$\n",
    "\n"
   ]
  },
  {
   "cell_type": "markdown",
   "id": "f690d47e",
   "metadata": {},
   "source": [
    "Percebe-se que a formulação não está adequada ao linprog do scipy.optimize. Portanto, as inequações de restrição $\\geq$ devem ser multiplicadas por $-1$ para tornarem-se $\\leq$"
   ]
  },
  {
   "cell_type": "markdown",
   "id": "a4ff1423",
   "metadata": {},
   "source": [
    "$\n",
    "\\begin{eqnarray*}\n",
    "\\begin{aligned}\n",
    "min \\quad -x + 4y \\\\\n",
    "s.a \\quad -3x + y \\leq 6\\\\\n",
    "\\quad \\quad x + 2y \\leq 4 \\\\\n",
    "\\quad \\quad y \\geq -3 \\\\\n",
    "\\end{aligned}\n",
    "\\end{eqnarray*}\n",
    "$"
   ]
  },
  {
   "cell_type": "markdown",
   "id": "2ebfdd72",
   "metadata": {},
   "source": [
    "Portanto o intervalo para $y \\in [-3,\\infty]$ e $x \\in [-\\infty,\\infty]$"
   ]
  },
  {
   "cell_type": "code",
   "execution_count": 5,
   "id": "01c5d22c",
   "metadata": {},
   "outputs": [],
   "source": [
    "fo = [-1, 4]\n",
    "\n",
    "A = [[-3,1],\n",
    "     [1,2]]\n",
    "\n",
    "b = [6, \n",
    "     4]\n",
    "\n",
    "x_b = (None, None)\n",
    "y_b = (-3,None)"
   ]
  },
  {
   "cell_type": "code",
   "execution_count": 6,
   "id": "f5a397b4",
   "metadata": {},
   "outputs": [],
   "source": [
    "from scipy.optimize import linprog\n",
    "\n",
    "opt = linprog(c=fo, A_ub=A, b_ub=b, bounds=[x_b,y_b], method='highs-ds') #método highs-ds default HiGHS simplex"
   ]
  },
  {
   "cell_type": "code",
   "execution_count": 8,
   "id": "cbd7352c",
   "metadata": {},
   "outputs": [
    {
     "data": {
      "text/plain": [
       "-22.0"
      ]
     },
     "execution_count": 8,
     "metadata": {},
     "output_type": "execute_result"
    }
   ],
   "source": [
    "opt.fun\n"
   ]
  },
  {
   "cell_type": "code",
   "execution_count": 9,
   "id": "31cdbcdc",
   "metadata": {},
   "outputs": [
    {
     "data": {
      "text/plain": [
       "array([10., -3.])"
      ]
     },
     "execution_count": 9,
     "metadata": {},
     "output_type": "execute_result"
    }
   ],
   "source": [
    "opt.x"
   ]
  },
  {
   "cell_type": "code",
   "execution_count": 10,
   "id": "23e66979",
   "metadata": {},
   "outputs": [
    {
     "data": {
      "text/plain": [
       "array([39.,  0.])"
      ]
     },
     "execution_count": 10,
     "metadata": {},
     "output_type": "execute_result"
    }
   ],
   "source": [
    "opt.slack"
   ]
  }
 ],
 "metadata": {
  "kernelspec": {
   "display_name": "Python 3 (ipykernel)",
   "language": "python",
   "name": "python3"
  },
  "language_info": {
   "codemirror_mode": {
    "name": "ipython",
    "version": 3
   },
   "file_extension": ".py",
   "mimetype": "text/x-python",
   "name": "python",
   "nbconvert_exporter": "python",
   "pygments_lexer": "ipython3",
   "version": "3.9.12"
  }
 },
 "nbformat": 4,
 "nbformat_minor": 5
}
