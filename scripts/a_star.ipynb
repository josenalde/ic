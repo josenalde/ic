{
 "cells": [
  {
   "cell_type": "markdown",
   "id": "electronic-fisher",
   "metadata": {},
   "source": [
    "### A* em python"
   ]
  },
  {
   "cell_type": "code",
   "execution_count": 3,
   "id": "tight-infrared",
   "metadata": {},
   "outputs": [
    {
     "name": "stdout",
     "output_type": "stream",
     "text": [
      "Requirement already satisfied: pygame in c:\\users\\josen\\anaconda3\\lib\\site-packages (2.1.2)\n"
     ]
    }
   ],
   "source": [
    "!pip install pygame\n",
    "#!python -m pip install pygame"
   ]
  },
  {
   "cell_type": "code",
   "execution_count": 5,
   "id": "lucky-territory",
   "metadata": {},
   "outputs": [
    {
     "name": "stdout",
     "output_type": "stream",
     "text": [
      "pygame 2.1.2 (SDL 2.0.18, Python 3.8.5)\n",
      "Hello from the pygame community. https://www.pygame.org/contribute.html\n"
     ]
    }
   ],
   "source": [
    "import pygame\n",
    "import math\n",
    "from queue import PriorityQueue"
   ]
  },
  {
   "cell_type": "code",
   "execution_count": 49,
   "id": "advised-purse",
   "metadata": {},
   "outputs": [],
   "source": [
    "WIDTH = 800\n",
    "WIN = pygame.display.set_mode((WIDTH, WIDTH))\n",
    "pygame.display.set_caption('A* IC TADS UFRN')"
   ]
  },
  {
   "cell_type": "code",
   "execution_count": 7,
   "id": "attended-jenny",
   "metadata": {},
   "outputs": [],
   "source": [
    "#cores\n",
    "RED = (255,0,0)\n",
    "GREEN = (0,255,0) #se está no conjunto aberto (open set)\n",
    "BLUE = (0,0,255)\n",
    "YELLOW = (255,255,0)\n",
    "WHITE = (255,255,255)\n",
    "BLACK = (0,0,0) #obstáculo\n",
    "PURPLE = (128,0,128)\n",
    "ORANGE = (255,165,0) #nó inicial\n",
    "GRAY = (128,128,128)\n",
    "TURQUOISE = (64,224,208)\n"
   ]
  },
  {
   "cell_type": "code",
   "execution_count": 42,
   "id": "super-effects",
   "metadata": {},
   "outputs": [],
   "source": [
    "# estado do nó\n",
    "class Node:\n",
    "    def __init__(self, row, col, width, total_rows):\n",
    "        self.row = row\n",
    "        self.col = col\n",
    "        self.x = row * width\n",
    "        self.y = col * width\n",
    "        self.color = WHITE #ainda não foi visitado\n",
    "        self.neighbors = []\n",
    "        self.width = width\n",
    "        self.total_rows = total_rows\n",
    "    \n",
    "    def get_pos(self):\n",
    "        return self.row, self.col\n",
    "    \n",
    "    def is_closed(self):\n",
    "        return self.color == RED #se já foi visitado\n",
    "    \n",
    "    def is_open(self):\n",
    "        return self.color == GREEN #se está no open set\n",
    "    \n",
    "    def is_obstacle(self):\n",
    "        return self.color == BLACK\n",
    "    \n",
    "    def is_start(self):\n",
    "        return self.color == ORANGE\n",
    "    \n",
    "    def is_end(self):\n",
    "        return self.color == PURPLE\n",
    "    \n",
    "    def reset(self):\n",
    "        self.color = WHITE\n",
    "    \n",
    "    def make_start(self):\n",
    "        self.color = ORANGE\n",
    "    \n",
    "    def make_closed(self):\n",
    "        self.color = RED\n",
    "        \n",
    "    def make_open(self):\n",
    "        self.color = GREEN\n",
    "        \n",
    "    def make_obstacle(self):\n",
    "        self.color = BLACK\n",
    "        \n",
    "    def make_end(self):\n",
    "        self.color = TURQUOISE\n",
    "        \n",
    "    def make_path(self):\n",
    "        self.color = PURPLE\n",
    "        \n",
    "    def draw(self, win):\n",
    "        #corrigido, terceiro argumento pygame.Rect\n",
    "        #https://www.geeksforgeeks.org/how-to-draw-rectangle-in-pygame/\n",
    "        pygame.draw.rect(win, self.color, pygame.Rect(self.x, self.y, self.width, self.width))\n",
    "        \n",
    "    def update_neighbors(self, grid):\n",
    "        self.neighbors = [] #apenas ao redor, sem diagonais\n",
    "        #abaixo\n",
    "        if self.row < self.total_rows-1 and not grid[self.row+1][self.col].is_obstacle():\n",
    "            self.neighbors.append(grid[self.row+1][self.col])\n",
    "        #acima\n",
    "        if self.row > 0 and not grid[self.row-1][self.col].is_obstacle():\n",
    "            self.neighbors.append(grid[self.row-1][self.col])\n",
    "        #esquerda\n",
    "        if self.col < self.total_rows-1 and not grid[self.row][self.col+1].is_obstacle():\n",
    "            self.neighbors.append(grid[self.row][self.col+1])\n",
    "        #direita\n",
    "        if self.col > 0 and not grid[self.row][self.col-1].is_obstacle():\n",
    "            self.neighbors.append(grid[self.row][self.col-1])\n",
    "        \n",
    "    \n",
    "    def __lt__(self, other):\n",
    "        return False\n",
    "    \n",
    "        \n",
    "    #31min https://www.youtube.com/watch?v=JtiK0DOeI4A"
   ]
  },
  {
   "cell_type": "code",
   "execution_count": 9,
   "id": "liberal-immune",
   "metadata": {},
   "outputs": [],
   "source": [
    "#heuristica componente h - distância aproximada de um ponto a outro\n",
    "\n",
    "def h(p1, p2):\n",
    "    #distancia manhatan (taxi - distancia L) (poderia ser euclidiana, etc.)\n",
    "    x1, y1 = p1\n",
    "    x2, y2 = p2\n",
    "    return abs(x1 - x2) + abs(y1 - y2)"
   ]
  },
  {
   "cell_type": "code",
   "execution_count": 30,
   "id": "minimal-arcade",
   "metadata": {},
   "outputs": [],
   "source": [
    "def reconstruct_path(came_from, current, draw):\n",
    "    while current in came_from:\n",
    "        current = came_from[current]\n",
    "        current.make_path()\n",
    "        draw()\n",
    "    "
   ]
  },
  {
   "cell_type": "code",
   "execution_count": 44,
   "id": "monetary-hopkins",
   "metadata": {},
   "outputs": [],
   "source": [
    "def a_star(draw, grid, start, end):\n",
    "    count = 0 #tie brake\n",
    "    open_set = PriorityQueue() #fila de prioridade\n",
    "    #insere nó inicial com F = 0 (lembrar que f = g + h)\n",
    "    open_set.put((0, count, start))\n",
    "    came_from = {} #caminho inverso de onde veio para chegar ao nó atual\n",
    "    g_score = {node: float(\"inf\") for row in grid for node in row}\n",
    "    g_score[start] = 0\n",
    "    f_score = {node: float(\"inf\") for row in grid for node in row}\n",
    "    f_score[start] = h(start.get_pos(), end.get_pos())\n",
    "    \n",
    "    open_set_hash = {start} #para checar se elemento está na fila de prioridade\n",
    "    \n",
    "    while not open_set.empty():\n",
    "        for event in pygame.event.get():\n",
    "            if event.type == pygame.QUIT:\n",
    "                pygame.quit()\n",
    "                \n",
    "        current = open_set.get()[2]\n",
    "        open_set_hash.remove(current)\n",
    "        \n",
    "        if current == end:\n",
    "            reconstruct_path(came_from, end, draw)\n",
    "            end.make_end()\n",
    "            return True #construir caminho - chegou ao fim\n",
    "        \n",
    "        for neighbor in current.neighbors:\n",
    "            temp_g_score = g_score[current] + 1 #assume arestas com 1\n",
    "            if temp_g_score < g_score[neighbor]:\n",
    "                came_from[neighbor] = current\n",
    "                g_score[neighbor] = temp_g_score\n",
    "                f_score[neighbor] = temp_g_score + h(neighbor.get_pos(), end.get_pos())\n",
    "                if neighbor not in open_set_hash:\n",
    "                    count += 1\n",
    "                    open_set.put((f_score[neighbor], count, neighbor))\n",
    "                    open_set_hash.add(neighbor)\n",
    "                    neighbor.make_open() #green\n",
    "                    \n",
    "        draw()\n",
    "        \n",
    "        if current != start:\n",
    "            current.make_closed()\n",
    "            \n",
    "    \n",
    "    "
   ]
  },
  {
   "cell_type": "code",
   "execution_count": 10,
   "id": "hundred-casino",
   "metadata": {},
   "outputs": [],
   "source": [
    "#construção da grade com certo número de linhas e certa largura\n",
    "def make_grid(rows, width):\n",
    "    grid = []\n",
    "    gap = width // rows\n",
    "    for i in range(rows):\n",
    "        grid.append([])\n",
    "        for j in range(rows):\n",
    "            node = Node(i, j, gap, rows)\n",
    "            grid[i].append(node)\n",
    "    return grid\n",
    "    "
   ]
  },
  {
   "cell_type": "code",
   "execution_count": 11,
   "id": "excited-prophet",
   "metadata": {},
   "outputs": [],
   "source": [
    "#desenha as linhas na grade\n",
    "def draw_grid(win, rows, width):\n",
    "    gap = width // rows\n",
    "    for i in range(rows):\n",
    "        pygame.draw.line(win, GRAY, (0, i * gap), (width, i * gap))\n",
    "        for j in range(rows):\n",
    "            pygame.draw.line(win, GRAY, (j * gap, 0), (j * gap, width))"
   ]
  },
  {
   "cell_type": "code",
   "execution_count": 12,
   "id": "accessible-carter",
   "metadata": {},
   "outputs": [],
   "source": [
    "#deseja de fato a grade\n",
    "def draw(win, grid, rows, width):\n",
    "    win.fill(WHITE)\n",
    "    for row in grid:\n",
    "        for node in row:\n",
    "            node.draw(win)\n",
    "    draw_grid(win, rows, width)\n",
    "    pygame.display.update()"
   ]
  },
  {
   "cell_type": "code",
   "execution_count": 13,
   "id": "introductory-boxing",
   "metadata": {},
   "outputs": [],
   "source": [
    "#obtém posição do click de cada nó\n",
    "def get_clicked_pos(pos, rows, width):\n",
    "    gap = width // rows\n",
    "    y, x = pos\n",
    "    row = y // gap\n",
    "    col = x // gap\n",
    "    return row, col"
   ]
  },
  {
   "cell_type": "code",
   "execution_count": 38,
   "id": "analyzed-scheme",
   "metadata": {},
   "outputs": [],
   "source": [
    "#main loop\n",
    "def main(win, width):\n",
    "    ROWS = 50\n",
    "    grid = make_grid(ROWS, width)\n",
    "    \n",
    "    start = None\n",
    "    end = None\n",
    "    \n",
    "    run = True\n",
    "    started = False\n",
    "    \n",
    "    while run:\n",
    "        draw(win, grid, ROWS, width)\n",
    "        for event in pygame.event.get():\n",
    "            if event.type == pygame.QUIT:\n",
    "                run = False\n",
    "        \n",
    "            if started:\n",
    "                continue\n",
    "            \n",
    "            if pygame.mouse.get_pressed()[0]: #0 botão esquerdo do mouse\n",
    "                pos = pygame.mouse.get_pos()\n",
    "                row, col = get_clicked_pos(pos, ROWS, width)\n",
    "                node = grid[row][col]\n",
    "                if not start and node != end:\n",
    "                    start = node\n",
    "                    start.make_start()\n",
    "                elif not end and node != start:\n",
    "                    end = node\n",
    "                    end.make_end()\n",
    "                elif node != end and node != start:\n",
    "                    node.make_obstacle()\n",
    "            elif pygame.mouse.get_pressed()[2]: #0 botão direito do mouse\n",
    "                pos = pygame.mouse.get_pos()\n",
    "                row, col = get_clicked_pos(pos, ROWS, width)\n",
    "                node = grid[row][col]\n",
    "                node.reset()\n",
    "                if node == start:\n",
    "                    start = None\n",
    "                elif node == end:\n",
    "                    end = None\n",
    "                    \n",
    "            if event.type == pygame.KEYDOWN:\n",
    "                if event.key == pygame.K_SPACE and not started:\n",
    "                    for row in grid:\n",
    "                        for node in row:\n",
    "                            node.update_neighbors(grid)\n",
    "                            \n",
    "                a_star(lambda: draw(win, grid, ROWS, width), grid, start, end)\n",
    "                \n",
    "    pygame.quit()"
   ]
  },
  {
   "cell_type": "code",
   "execution_count": 50,
   "id": "tracked-skill",
   "metadata": {},
   "outputs": [],
   "source": [
    "main(WIN, WIDTH)"
   ]
  },
  {
   "cell_type": "code",
   "execution_count": null,
   "id": "everyday-orleans",
   "metadata": {},
   "outputs": [],
   "source": []
  }
 ],
 "metadata": {
  "kernelspec": {
   "display_name": "Python 3",
   "language": "python",
   "name": "python3"
  },
  "language_info": {
   "codemirror_mode": {
    "name": "ipython",
    "version": 3
   },
   "file_extension": ".py",
   "mimetype": "text/x-python",
   "name": "python",
   "nbconvert_exporter": "python",
   "pygments_lexer": "ipython3",
   "version": "3.8.5"
  }
 },
 "nbformat": 4,
 "nbformat_minor": 5
}
